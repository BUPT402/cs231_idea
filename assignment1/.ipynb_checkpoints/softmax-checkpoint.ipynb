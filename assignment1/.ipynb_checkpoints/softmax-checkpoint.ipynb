{
 "cells": [
  {
   "cell_type": "markdown",
   "metadata": {},
   "source": [
    "# Softmax exercise\n",
    "\n",
    "*Complete and hand in this completed worksheet (including its outputs and any supporting code outside of the worksheet) with your assignment submission. For more details see the [assignments page](http://vision.stanford.edu/teaching/cs231n/assignments.html) on the course website.*\n",
    "\n",
    "This exercise is analogous to the SVM exercise. You will:\n",
    "\n",
    "- implement a fully-vectorized **loss function** for the Softmax classifier\n",
    "- implement the fully-vectorized expression for its **analytic gradient**\n",
    "- **check your implementation** with numerical gradient\n",
    "- use a validation set to **tune the learning rate and regularization** strength\n",
    "- **optimize** the loss function with **SGD**\n",
    "- **visualize** the final learned weights\n"
   ]
  },
  {
   "cell_type": "code",
   "execution_count": 1,
   "metadata": {
    "collapsed": false
   },
   "outputs": [],
   "source": [
    "import random\n",
    "import numpy as np\n",
    "from cs231n.data_utils import load_CIFAR10\n",
    "import matplotlib.pyplot as plt\n",
    "%matplotlib inline\n",
    "plt.rcParams['figure.figsize'] = (10.0, 8.0) # set default size of plots\n",
    "plt.rcParams['image.interpolation'] = 'nearest'\n",
    "plt.rcParams['image.cmap'] = 'gray'\n",
    "\n",
    "# for auto-reloading extenrnal modules\n",
    "# see http://stackoverflow.com/questions/1907993/autoreload-of-modules-in-ipython\n",
    "%load_ext autoreload\n",
    "%autoreload 2"
   ]
  },
  {
   "cell_type": "code",
   "execution_count": 2,
   "metadata": {
    "collapsed": false
   },
   "outputs": [
    {
     "name": "stdout",
     "output_type": "stream",
     "text": [
      "Train data shape:  (49000, 3073)\n",
      "Train labels shape:  (49000,)\n",
      "Validation data shape:  (1000, 3073)\n",
      "Validation labels shape:  (1000,)\n",
      "Test data shape:  (1000, 3073)\n",
      "Test labels shape:  (1000,)\n",
      "dev data shape:  (500, 3073)\n",
      "dev labels shape:  (500,)\n"
     ]
    }
   ],
   "source": [
    "def get_CIFAR10_data(num_training=49000, num_validation=1000, num_test=1000, num_dev=500):\n",
    "  \"\"\"\n",
    "  Load the CIFAR-10 dataset from disk and perform preprocessing to prepare\n",
    "  it for the linear classifier. These are the same steps as we used for the\n",
    "  SVM, but condensed to a single function.  \n",
    "  \"\"\"\n",
    "  # Load the raw CIFAR-10 data\n",
    "  cifar10_dir = 'cs231n/datasets/cifar-10-batches-py'\n",
    "  X_train, y_train, X_test, y_test = load_CIFAR10(cifar10_dir)\n",
    "  \n",
    "  # subsample the data 分好数据\n",
    "  mask = range(num_training, num_training + num_validation) # （49000,49000 + 1000）\n",
    "  X_val = X_train[mask]\n",
    "  y_val = y_train[mask]\n",
    "  mask = range(num_training) # （0， 49000）\n",
    "  X_train = X_train[mask]\n",
    "  y_train = y_train[mask]\n",
    "  mask = range(num_test) # （0， 1000）\n",
    "  X_test = X_test[mask]\n",
    "  y_test = y_test[mask]\n",
    "  mask = np.random.choice(num_training, num_dev, replace=False) #在（0,49000）选num_dev个数作为array。\n",
    "  X_dev = X_train[mask]\n",
    "  y_dev = y_train[mask]\n",
    "  \n",
    "  # Preprocessing: reshape the image data into rows 把三维照片变成二维\n",
    "  X_train = np.reshape(X_train, (X_train.shape[0], -1))\n",
    "  X_val = np.reshape(X_val, (X_val.shape[0], -1))\n",
    "  X_test = np.reshape(X_test, (X_test.shape[0], -1))\n",
    "  X_dev = np.reshape(X_dev, (X_dev.shape[0], -1))\n",
    "  \n",
    "  # Normalize the data: subtract the mean image 许多sample合聚成一个sample，求平均值。 归一化\n",
    "  mean_image = np.mean(X_train, axis = 0)\n",
    "  X_train -= mean_image\n",
    "  X_val -= mean_image\n",
    "  X_test -= mean_image\n",
    "  X_dev -= mean_image\n",
    "\n",
    "#     归一化是为了加快训练网络的收敛性，可以不进行归一化处理；\n",
    "#     归一化的具体作用是归纳统一样本的统计分布性。归一化在0-1之间是统计的概率分布，归一化在-1--+1之间是统计的坐标分布。\n",
    "#     归一化有同一、统一和合一的意思。无论是为了建模还是为了计算，首先基本度量单位要同一，\n",
    "#     神经网络是以样本在事件中的统计分别几率来进行训练（概率计算）和预测的，归一化是同一在0-1之间的统计概率分布；\n",
    "#     当所有样本的输入信号都为正值时，与第一隐含层神经元相连的权值只能同时增加或减小，从而导致学习速度很慢。\n",
    "#     为了避免出现这种情况，加快网络学习速度，可以对输入信号进行归一化，使得所有样本的输入信号其均值接近于0或与其均方差相比很小。\n",
    "#     防止饱和\n",
    "  \n",
    "  # add bias dimension and transform into columns 把bias加进去，后面训练只对w训练就可以了\n",
    "  X_train = np.hstack([X_train, np.ones((X_train.shape[0], 1))])\n",
    "  X_val = np.hstack([X_val, np.ones((X_val.shape[0], 1))])\n",
    "  X_test = np.hstack([X_test, np.ones((X_test.shape[0], 1))])\n",
    "  X_dev = np.hstack([X_dev, np.ones((X_dev.shape[0], 1))])\n",
    "  \n",
    "  return X_train, y_train, X_val, y_val, X_test, y_test, X_dev, y_dev\n",
    "\n",
    "\n",
    "# Invoke the above function to get our data.\n",
    "X_train, y_train, X_val, y_val, X_test, y_test, X_dev, y_dev = get_CIFAR10_data()\n",
    "print 'Train data shape: ', X_train.shape\n",
    "print 'Train labels shape: ', y_train.shape\n",
    "print 'Validation data shape: ', X_val.shape\n",
    "print 'Validation labels shape: ', y_val.shape\n",
    "print 'Test data shape: ', X_test.shape\n",
    "print 'Test labels shape: ', y_test.shape\n",
    "print 'dev data shape: ', X_dev.shape\n",
    "print 'dev labels shape: ', y_dev.shape"
   ]
  },
  {
   "cell_type": "markdown",
   "metadata": {},
   "source": [
    "## Softmax Classifier\n",
    "\n",
    "Your code for this section will all be written inside **cs231n/classifiers/softmax.py**. \n"
   ]
  },
  {
   "cell_type": "code",
   "execution_count": 3,
   "metadata": {
    "collapsed": false
   },
   "outputs": [
    {
     "name": "stdout",
     "output_type": "stream",
     "text": [
      "loss: 2.316339\n",
      "sanity check: 2.302585\n"
     ]
    }
   ],
   "source": [
    "# First implement the naive softmax loss function with nested loops.\n",
    "# Open the file cs231n/classifiers/softmax.py and implement the\n",
    "# softmax_loss_naive function.\n",
    "\n",
    "from cs231n.classifiers.softmax import softmax_loss_naive\n",
    "import time\n",
    "\n",
    "# Generate a random softmax weight matrix and use it to compute the loss.\n",
    "W = np.random.randn(3073, 10) * 0.0001 # 留个疑问，为什么这里要乘一个这么少的数？\n",
    "loss, grad = softmax_loss_naive(W, X_dev, y_dev, 0.0)\n",
    "\n",
    "# As a rough sanity check, our loss should be something close to -log(0.1).\n",
    "print 'loss: %f' % loss\n",
    "print 'sanity check: %f' % (-np.log(0.1))"
   ]
  },
  {
   "cell_type": "markdown",
   "metadata": {},
   "source": [
    "## Inline Question 1:\n",
    "Why do we expect our loss to be close to -log(0.1)? Explain briefly.**\n",
    "\n",
    "**Your answer:** *答案是说，因为有num_class = 10， 所以根据概率分布，每个class有0.1的机会被选中，我感觉有点牵扯。*\n"
   ]
  },
  {
   "cell_type": "code",
   "execution_count": 4,
   "metadata": {
    "collapsed": false
   },
   "outputs": [
    {
     "name": "stdout",
     "output_type": "stream",
     "text": [
      "numerical: 0.502360 analytic: 0.502360, relative error: 9.683988e-09\n",
      "numerical: 2.002715 analytic: 2.002715, relative error: 9.536672e-09\n",
      "numerical: 1.406114 analytic: 1.406114, relative error: 1.298248e-08\n",
      "numerical: 1.788182 analytic: 1.788182, relative error: 2.044912e-08\n",
      "numerical: 2.507141 analytic: 2.507141, relative error: 3.403652e-08\n",
      "numerical: 1.969018 analytic: 1.969018, relative error: 5.088942e-09\n",
      "numerical: 3.944509 analytic: 3.944509, relative error: 6.101408e-10\n",
      "numerical: -1.491830 analytic: -1.491830, relative error: 1.885570e-08\n",
      "numerical: -3.278517 analytic: -3.278517, relative error: 1.513192e-08\n",
      "numerical: 1.009309 analytic: 1.009309, relative error: 2.982220e-08\n",
      "numerical: -0.075738 analytic: -0.075738, relative error: 2.822156e-07\n",
      "numerical: 0.109802 analytic: 0.109802, relative error: 1.867052e-07\n",
      "numerical: -2.468427 analytic: -2.468427, relative error: 1.973370e-09\n",
      "numerical: 0.715264 analytic: 0.715264, relative error: 3.955387e-08\n",
      "numerical: -2.322956 analytic: -2.322956, relative error: 3.189280e-09\n",
      "numerical: 2.341836 analytic: 2.341836, relative error: 2.002415e-08\n",
      "numerical: 1.761778 analytic: 1.761778, relative error: 2.600734e-08\n",
      "numerical: 1.003297 analytic: 1.003297, relative error: 1.604339e-08\n",
      "numerical: -0.596044 analytic: -0.596044, relative error: 1.604723e-08\n",
      "numerical: 0.981211 analytic: 0.981211, relative error: 1.932941e-08\n"
     ]
    }
   ],
   "source": [
    "# Complete the implementation of softmax_loss_naive and implement a (naive)\n",
    "# version of the gradient that uses nested loops.\n",
    "loss, grad = softmax_loss_naive(W, X_dev, y_dev, 0.0)\n",
    "\n",
    "# As we did for the SVM, use numeric gradient checking as a debugging tool.\n",
    "# The numeric gradient should be close to the analytic gradient.\n",
    "from cs231n.gradient_check import grad_check_sparse\n",
    "f = lambda w: softmax_loss_naive(w, X_dev, y_dev, 0.0)[0]\n",
    "grad_numerical = grad_check_sparse(f, W, grad, 10)\n",
    "\n",
    "# similar to SVM case, do another gradient check with regularization\n",
    "loss, grad = softmax_loss_naive(W, X_dev, y_dev, 1e2)\n",
    "f = lambda w: softmax_loss_naive(w, X_dev, y_dev, 1e2)[0]\n",
    "grad_numerical = grad_check_sparse(f, W, grad, 10)"
   ]
  },
  {
   "cell_type": "code",
   "execution_count": 5,
   "metadata": {
    "collapsed": false
   },
   "outputs": [
    {
     "name": "stdout",
     "output_type": "stream",
     "text": [
      "naive loss: 2.316339e+00 computed in 0.143695s\n",
      "vectorized loss: 2.316339e+00 computed in 0.531090s\n",
      "Loss difference: 0.000000\n",
      "Gradient difference: 0.000000\n"
     ]
    }
   ],
   "source": [
    "# Now that we have a naive implementation of the softmax loss function and its gradient,\n",
    "# implement a vectorized version in softmax_loss_vectorized.\n",
    "# The two versions should compute the same results, but the vectorized version should be\n",
    "# much faster.\n",
    "tic = time.time()\n",
    "loss_naive, grad_naive = softmax_loss_naive(W, X_dev, y_dev, 0.00001)\n",
    "toc = time.time()\n",
    "print 'naive loss: %e computed in %fs' % (loss_naive, toc - tic)\n",
    "\n",
    "from cs231n.classifiers.softmax import softmax_loss_vectorized\n",
    "tic = time.time()\n",
    "loss_vectorized, grad_vectorized = softmax_loss_vectorized(W, X_dev, y_dev, 0.00001)\n",
    "toc = time.time()\n",
    "print 'vectorized loss: %e computed in %fs' % (loss_vectorized, toc - tic)\n",
    "\n",
    "# As we did for the SVM, we use the Frobenius norm to compare the two versions\n",
    "# of the gradient.\n",
    "grad_difference = np.linalg.norm(grad_naive - grad_vectorized, ord='fro')\n",
    "print 'Loss difference: %f' % np.abs(loss_naive - loss_vectorized)\n",
    "print 'Gradient difference: %f' % grad_difference"
   ]
  },
  {
   "cell_type": "code",
   "execution_count": 9,
   "metadata": {
    "collapsed": false
   },
   "outputs": [
    {
     "name": "stdout",
     "output_type": "stream",
     "text": [
      "lr 1.000000e-07 reg 5.000000e+04 train accuracy: 0.332816 val accuracy: 0.343000\n",
      "lr 1.000000e-07 reg 6.250000e+04 train accuracy: 0.316367 val accuracy: 0.329000\n",
      "lr 1.000000e-07 reg 7.500000e+04 train accuracy: 0.319061 val accuracy: 0.330000\n",
      "lr 1.000000e-07 reg 8.750000e+04 train accuracy: 0.313551 val accuracy: 0.323000\n",
      "lr 1.000000e-07 reg 1.000000e+05 train accuracy: 0.305347 val accuracy: 0.328000\n",
      "lr 2.000000e-07 reg 5.000000e+04 train accuracy: 0.331612 val accuracy: 0.353000\n",
      "lr 2.000000e-07 reg 6.250000e+04 train accuracy: 0.326469 val accuracy: 0.338000\n",
      "lr 2.000000e-07 reg 7.500000e+04 train accuracy: 0.312898 val accuracy: 0.323000\n",
      "lr 2.000000e-07 reg 8.750000e+04 train accuracy: 0.305429 val accuracy: 0.328000\n",
      "lr 2.000000e-07 reg 1.000000e+05 train accuracy: 0.305388 val accuracy: 0.319000\n",
      "lr 3.000000e-07 reg 5.000000e+04 train accuracy: 0.332673 val accuracy: 0.341000\n",
      "lr 3.000000e-07 reg 6.250000e+04 train accuracy: 0.313510 val accuracy: 0.327000\n",
      "lr 3.000000e-07 reg 7.500000e+04 train accuracy: 0.323633 val accuracy: 0.327000\n",
      "lr 3.000000e-07 reg 8.750000e+04 train accuracy: 0.310612 val accuracy: 0.326000\n",
      "lr 3.000000e-07 reg 1.000000e+05 train accuracy: 0.307245 val accuracy: 0.331000\n",
      "lr 4.000000e-07 reg 5.000000e+04 train accuracy: 0.323449 val accuracy: 0.342000\n",
      "lr 4.000000e-07 reg 6.250000e+04 train accuracy: 0.314000 val accuracy: 0.332000\n",
      "lr 4.000000e-07 reg 7.500000e+04 train accuracy: 0.314510 val accuracy: 0.323000\n",
      "lr 4.000000e-07 reg 8.750000e+04 train accuracy: 0.298408 val accuracy: 0.316000\n",
      "lr 4.000000e-07 reg 1.000000e+05 train accuracy: 0.287306 val accuracy: 0.301000\n",
      "lr 5.000000e-07 reg 5.000000e+04 train accuracy: 0.317020 val accuracy: 0.332000\n",
      "lr 5.000000e-07 reg 6.250000e+04 train accuracy: 0.321816 val accuracy: 0.322000\n",
      "lr 5.000000e-07 reg 7.500000e+04 train accuracy: 0.318000 val accuracy: 0.327000\n",
      "lr 5.000000e-07 reg 8.750000e+04 train accuracy: 0.303735 val accuracy: 0.309000\n",
      "lr 5.000000e-07 reg 1.000000e+05 train accuracy: 0.308449 val accuracy: 0.320000\n",
      "best validation accuracy achieved during cross-validation: 0.353000\n"
     ]
    }
   ],
   "source": [
    "# Use the validation set to tune hyperparameters (regularization strength and\n",
    "# learning rate). You should experiment with different ranges for the learning\n",
    "# rates and regularization strengths; if you are careful you should be able to\n",
    "# get a classification accuracy of over 0.35 on the validation set.\n",
    "from cs231n.classifiers import Softmax\n",
    "results = {}\n",
    "best_val = -1\n",
    "best_softmax = None\n",
    "learning_rates = [1e-7, 5e-7]\n",
    "regularization_strengths = [5e4, 1e5]\n",
    "\n",
    "################################################################################\n",
    "# TODO:                                                                        #\n",
    "# Use the validation set to set the learning rate and regularization strength. #\n",
    "# This should be identical to the validation that you did for the SVM; save    #\n",
    "# the best trained softmax classifer in best_softmax.                          #\n",
    "################################################################################\n",
    "for lr in np.linspace(learning_rates[0],learning_rates[1],5):\n",
    "    for reg in np.linspace(regularization_strengths[0],regularization_strengths[1],5):\n",
    "        softmax = Softmax()\n",
    "        loss_list = softmax.train(X_train, y_train, learning_rate=lr, reg=reg, num_iters=1000,\n",
    "            batch_size=200, verbose=False)\n",
    "        train_pre = softmax.predict(X_train)\n",
    "        val_pre = softmax.predict(X_val)\n",
    "        train_acc = np.mean(y_train == train_pre)\n",
    "        val_acc = np.mean(y_val == val_pre)\n",
    "        results[(lr,reg)] = (train_acc,val_acc)\n",
    "        \n",
    "        if best_val < val_acc:\n",
    "            best_val = val_acc\n",
    "            best_softmax = softmax\n",
    "################################################################################\n",
    "#                              END OF YOUR CODE                                #\n",
    "################################################################################\n",
    "    \n",
    "# Print out results.\n",
    "for lr, reg in sorted(results):\n",
    "    train_accuracy, val_accuracy = results[(lr, reg)]\n",
    "    print 'lr %e reg %e train accuracy: %f val accuracy: %f' % (\n",
    "                lr, reg, train_accuracy, val_accuracy)\n",
    "    \n",
    "print 'best validation accuracy achieved during cross-validation: %f' % best_val"
   ]
  },
  {
   "cell_type": "code",
   "execution_count": 10,
   "metadata": {
    "collapsed": false
   },
   "outputs": [
    {
     "name": "stdout",
     "output_type": "stream",
     "text": [
      "softmax on raw pixels final test set accuracy: 0.350000\n"
     ]
    }
   ],
   "source": [
    "# evaluate on test set\n",
    "# Evaluate the best softmax on test set\n",
    "y_test_pred = best_softmax.predict(X_test)\n",
    "test_accuracy = np.mean(y_test == y_test_pred)\n",
    "print 'softmax on raw pixels final test set accuracy: %f' % (test_accuracy, )"
   ]
  },
  {
   "cell_type": "code",
   "execution_count": 11,
   "metadata": {
    "collapsed": false
   },
   "outputs": [
    {
     "data": {
      "image/png": "[encoded data removed]",
      "text/plain": [
       "<matplotlib.figure.Figure at 0x7f23db0e5210>"
      ]
     },
     "metadata": {},
     "output_type": "display_data"
    }
   ],
   "source": [
    "# Visualize the learned weights for each class\n",
    "w = best_softmax.W[:-1,:] # strip out the bias\n",
    "w = w.reshape(32, 32, 3, 10)\n",
    "\n",
    "w_min, w_max = np.min(w), np.max(w)\n",
    "\n",
    "classes = ['plane', 'car', 'bird', 'cat', 'deer', 'dog', 'frog', 'horse', 'ship', 'truck']\n",
    "for i in xrange(10):\n",
    "  plt.subplot(2, 5, i + 1)\n",
    "  \n",
    "  # Rescale the weights to be between 0 and 255\n",
    "  wimg = 255.0 * (w[:, :, :, i].squeeze() - w_min) / (w_max - w_min)\n",
    "  plt.imshow(wimg.astype('uint8'))\n",
    "  plt.axis('off')\n",
    "  plt.title(classes[i])"
   ]
  },
  {
   "cell_type": "code",
   "execution_count": null,
   "metadata": {
    "collapsed": true
   },
   "outputs": [],
   "source": []
  }
 ],
 "metadata": {
  "kernelspec": {
   "display_name": "Python [Root]",
   "language": "python",
   "name": "Python [Root]"
  },
  "language_info": {
   "codemirror_mode": {
    "name": "ipython",
    "version": 2
   },
   "file_extension": ".py",
   "mimetype": "text/x-python",
   "name": "python",
   "nbconvert_exporter": "python",
   "pygments_lexer": "ipython2",
   "version": "2.7.11"
  }
 },
 "nbformat": 4,
 "nbformat_minor": 0
}
